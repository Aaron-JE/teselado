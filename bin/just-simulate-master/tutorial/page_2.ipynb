{
 "cells": [
  {
   "cell_type": "markdown",
   "source": [
    "### Modeling restaurants, customers and couriers\n",
    "\n",
    "This tutorial explains how to quickly setup a simulation using restaurants,\n",
    "customers, and couriers. These agents are the building blocks of the simulation\n",
    "and interact between them in the environment using events and messages."
   ],
   "metadata": {
    "collapsed": false
   }
  },
  {
   "cell_type": "code",
   "execution_count": 1,
   "metadata": {
    "collapsed": true
   },
   "outputs": [],
   "source": [
    "from datetime import timedelta\n",
    "\n",
    "from just.simulate.agent.courier import Courier\n",
    "from just.simulate.agent.customer import Customer\n",
    "from just.simulate.agent.restaurant import Restaurant\n",
    "from just.simulate.component.assigner import RandomAssigner\n",
    "from just.simulate.metric import DeliveryTime, NumberOfOrdersDelivered\n",
    "from just.simulate.session import Session\n",
    "from just.simulate.simulation import Simulation"
   ]
  },
  {
   "cell_type": "markdown",
   "source": [
    "###### Modeling restaurants\n",
    "\n",
    "Restaurants are defined by an `id` and a `latitude` and `longitude` location.\n",
    "Optionally, they also have `opening hours` where only orders placed during\n",
    "those times will be accepted. Opening hours could be useful to model restaurant\n",
    "behaviour when receiving orders at different times of the day."
   ],
   "metadata": {
    "collapsed": false,
    "pycharm": {
     "name": "#%% md\n"
    }
   }
  },
  {
   "cell_type": "code",
   "execution_count": 2,
   "outputs": [],
   "source": [
    "restaurants = [\n",
    "    Restaurant(id='Tate Modern', lat=51.5076, lng=-0.0994),\n",
    "    Restaurant(id='The British Museum', lat=51.5194, lng=-0.1270)\n",
    "]"
   ],
   "metadata": {
    "collapsed": false,
    "pycharm": {
     "name": "#%%\n"
    }
   }
  },
  {
   "cell_type": "markdown",
   "source": [
    "###### Modeling restaurants\n",
    "\n",
    "Customers are defined by an `id` and a `latitude` and `longitude` location.\n",
    "Customers will start sessions and place orders."
   ],
   "metadata": {
    "collapsed": false,
    "pycharm": {
     "name": "#%% md\n"
    }
   }
  },
  {
   "cell_type": "code",
   "execution_count": 3,
   "outputs": [],
   "source": [
    "customers = [\n",
    "    Customer(id='Brockwell Lido', lat=51.4531, lng=-0.1064),\n",
    "    Customer(id='Parliament Hill', lat=51.5562, lng=-0.1511),\n",
    "    Customer(id='London Fields', lat=51.5423, lng=0.0615)\n",
    "]"
   ],
   "metadata": {
    "collapsed": false,
    "pycharm": {
     "name": "#%%\n"
    }
   }
  },
  {
   "cell_type": "markdown",
   "source": [
    "###### Modeling sessions\n",
    "\n",
    "Sessions represent customer sessions to a restaurant. Then customer might\n",
    "choose to convert or not during that session. This is useful to model customer\n",
    "behaviour, e.g. the conversion rate when delivery times are longer might be\n",
    "smaller than when delivery times are shorter."
   ],
   "metadata": {
    "collapsed": false,
    "pycharm": {
     "name": "#%% md\n"
    }
   }
  },
  {
   "cell_type": "code",
   "execution_count": 4,
   "outputs": [],
   "source": [
    "sessions = [\n",
    "    Session(customer_id='Brockwell Lido', restaurant_id='Tate Modern',\n",
    "            timestamp=timedelta(hours=18, minutes=20, seconds=0)),\n",
    "    Session(customer_id='Parliament Hill', restaurant_id='Tate Modern',\n",
    "            timestamp=timedelta(hours=18, minutes=30, seconds=0)),\n",
    "    Session(customer_id='London Fields', restaurant_id='The British Museum',\n",
    "            timestamp=timedelta(hours=18, minutes=40, seconds=0))\n",
    "]"
   ],
   "metadata": {
    "collapsed": false,
    "pycharm": {
     "name": "#%%\n"
    }
   }
  },
  {
   "cell_type": "markdown",
   "source": [
    "###### Modeling couriers\n",
    "\n",
    "Couriers are defined by an `id` and a `latitude` and `longitude` location.\n",
    "Similarly to restaurants, couriers have `shift times`. Any delivery received\n",
    "outside of their shift will be rejected."
   ],
   "metadata": {
    "collapsed": false,
    "pycharm": {
     "name": "#%% md\n"
    }
   }
  },
  {
   "cell_type": "code",
   "execution_count": 5,
   "outputs": [],
   "source": [
    "couriers = [\n",
    "    Courier(id='Kenny Acheson', lat=51.5080, lng=-0.1281),\n",
    "    Courier(id='Cliff Allison', lat=51.5080, lng=-0.1281)\n",
    "]"
   ],
   "metadata": {
    "collapsed": false,
    "pycharm": {
     "name": "#%%\n"
    }
   }
  },
  {
   "cell_type": "markdown",
   "source": [
    "###### Assigning orders to couriers\n",
    "\n",
    "The simulation will need an assigner to assign orders to couriers. This\n",
    "one  is just a very simple assigner that picks a random courier to deliver\n",
    "the order."
   ],
   "metadata": {
    "collapsed": false,
    "pycharm": {
     "name": "#%% md\n"
    }
   }
  },
  {
   "cell_type": "code",
   "execution_count": 6,
   "outputs": [],
   "source": [
    "random_assigner = RandomAssigner()"
   ],
   "metadata": {
    "collapsed": false,
    "pycharm": {
     "name": "#%%\n"
    }
   }
  },
  {
   "cell_type": "markdown",
   "source": [
    "###### Measuring results\n",
    "\n",
    "The metrics we are interested on tracking during the execution of the\n",
    "simulation. In this case, we want to know the average delivery time and\n",
    "the total number of orders delivered."
   ],
   "metadata": {
    "collapsed": false,
    "pycharm": {
     "name": "#%% md\n"
    }
   }
  },
  {
   "cell_type": "code",
   "execution_count": 7,
   "outputs": [],
   "source": [
    "metrics = [\n",
    "    DeliveryTime(),\n",
    "    NumberOfOrdersDelivered()\n",
    "]"
   ],
   "metadata": {
    "collapsed": false,
    "pycharm": {
     "name": "#%%\n"
    }
   }
  },
  {
   "cell_type": "markdown",
   "source": [
    "This is the base class for a simulation where we load all the different\n",
    "agents (restaurants, customers, and couriers) alongside sessions. This class\n",
    "would make sure that all the agents and components are registered in the\n",
    "environment and everything is ready to run."
   ],
   "metadata": {
    "collapsed": false,
    "pycharm": {
     "name": "#%% md\n"
    }
   }
  },
  {
   "cell_type": "code",
   "execution_count": 8,
   "outputs": [],
   "source": [
    "simulation = Simulation(\n",
    "    restaurants=restaurants,\n",
    "    customers=customers,\n",
    "    sessions=sessions,\n",
    "    couriers=couriers,\n",
    "    assigner=random_assigner,\n",
    "    metrics=metrics\n",
    ")"
   ],
   "metadata": {
    "collapsed": false,
    "pycharm": {
     "name": "#%%\n"
    }
   }
  },
  {
   "cell_type": "markdown",
   "source": [
    "Run the simulation and print the results"
   ],
   "metadata": {
    "collapsed": false,
    "pycharm": {
     "name": "#%% md\n"
    }
   }
  },
  {
   "cell_type": "code",
   "execution_count": 9,
   "outputs": [
    {
     "name": "stdout",
     "output_type": "stream",
     "text": [
      "{'DeliveryTime': Timedelta('0 days 00:20:22'), 'NumberOfOrdersDelivered': 3}\n"
     ]
    }
   ],
   "source": [
    "results = simulation.run()\n",
    "print(results)\n"
   ],
   "metadata": {
    "collapsed": false,
    "pycharm": {
     "name": "#%%\n"
    }
   }
  }
 ],
 "metadata": {
  "kernelspec": {
   "display_name": "Python 3",
   "language": "python",
   "name": "python3"
  },
  "language_info": {
   "codemirror_mode": {
    "name": "ipython",
    "version": 2
   },
   "file_extension": ".py",
   "mimetype": "text/x-python",
   "name": "python",
   "nbconvert_exporter": "python",
   "pygments_lexer": "ipython2",
   "version": "2.7.6"
  }
 },
 "nbformat": 4,
 "nbformat_minor": 0
}