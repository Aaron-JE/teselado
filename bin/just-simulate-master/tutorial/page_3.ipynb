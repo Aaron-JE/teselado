{
 "cells": [
  {
   "cell_type": "markdown",
   "source": [
    "### A gentle intro to time distributions\n",
    "\n",
    "This tutorial explains a bit more how time distributions can be used in the\n",
    "simulator. Time distributions are helpful in order to model stochastic, real\n",
    "world behaviour of restaurants, customers and couriers, as well as sessions.\n",
    "\n",
    "`TimeDist` provides the basic tools to start working with time distributions.\n",
    "They are built on top of the probability distributions provided my `scipy`.\n",
    "The `stats` module in `scipy` contains a large number of [probability\n",
    "distributions](https://docs.scipy.org/doc/scipy/reference/stats.html). All\n",
    "those probability distributions can be used with `TimeDist`.\n"
   ],
   "metadata": {
    "collapsed": false,
    "pycharm": {
     "name": "#%% md\n"
    }
   }
  },
  {
   "cell_type": "code",
   "execution_count": 4,
   "metadata": {
    "collapsed": true
   },
   "outputs": [],
   "source": [
    "from datetime import timedelta\n",
    "\n",
    "from just.simulate.agent.courier import Courier\n",
    "from just.simulate.agent.customer import Customer\n",
    "from just.simulate.agent.restaurant import Restaurant\n",
    "from just.simulate.component.assigner import RandomAssigner\n",
    "from just.simulate.metric import DeliveryTime, NumberOfOrdersDelivered\n",
    "from just.simulate.session import Session\n",
    "from just.simulate.simulation import Simulation\n",
    "from just.simulate.time_dist import TimeDist"
   ]
  },
  {
   "cell_type": "markdown",
   "source": [
    "###### Creating a time distribution\n",
    "\n",
    "Here, we will create a time distribution that follow the normal distribution\n",
    "with mean `10.0` and standard deviation of `2.0`."
   ],
   "metadata": {
    "collapsed": false,
    "pycharm": {
     "name": "#%% md\n"
    }
   }
  },
  {
   "cell_type": "code",
   "execution_count": 5,
   "outputs": [],
   "source": [
    "wait = TimeDist('norm', 10, 2, unit='minutes')"
   ],
   "metadata": {
    "collapsed": false,
    "pycharm": {
     "name": "#%%\n"
    }
   }
  },
  {
   "cell_type": "markdown",
   "source": [
    "###### Adding wait time for restaurants\n",
    "\n",
    "Optionally, restaurants could have a variable wait time from when\n",
    "a courier arrives to the restaurant to collect the food to when\n",
    "the courier collects the order - also called handover time. This\n",
    "variable wait time will follow a normal distribution with mean `10.0`\n",
    "and standard deviation `2.0`."
   ],
   "metadata": {
    "collapsed": false,
    "pycharm": {
     "name": "#%% md\n"
    }
   }
  },
  {
   "cell_type": "code",
   "execution_count": 6,
   "outputs": [],
   "source": [
    "restaurants = [\n",
    "    Restaurant(id='Tate Modern', lat=51.5076, lng=-0.0994, wait=wait),\n",
    "    Restaurant(id='The British Museum', lat=51.5194, lng=-0.1270, wait=wait)\n",
    "]"
   ],
   "metadata": {
    "collapsed": false,
    "pycharm": {
     "name": "#%%\n"
    }
   }
  },
  {
   "cell_type": "markdown",
   "source": [
    "###### Adding wait time for customers\n",
    "\n",
    "Optionally, customers also support the addition of wait times from\n",
    "when the courier arrives to the delivery address to when the food\n",
    "gets delivered to the customer. Just set `wait` to the desired time\n",
    "distribution the same as for restaurants."
   ],
   "metadata": {
    "collapsed": false,
    "pycharm": {
     "name": "#%% md\n"
    }
   }
  },
  {
   "cell_type": "code",
   "source": [
    "customers = [\n",
    "    Customer(id='Brockwell Lido', lat=51.4531, lng=-0.1064),\n",
    "    Customer(id='Parliament Hill', lat=51.5562, lng=-0.1511),\n",
    "    Customer(id='London Fields', lat=51.5423, lng=0.0615)\n",
    "]"
   ],
   "metadata": {
    "collapsed": false,
    "pycharm": {
     "name": "#%%\n"
    }
   },
   "execution_count": 7,
   "outputs": []
  },
  {
   "cell_type": "code",
   "execution_count": 8,
   "outputs": [],
   "source": [
    "sessions = [\n",
    "    Session(customer_id='Brockwell Lido', restaurant_id='Tate Modern',\n",
    "            timestamp=timedelta(hours=18, minutes=20, seconds=0)),\n",
    "    Session(customer_id='Parliament Hill', restaurant_id='Tate Modern',\n",
    "            timestamp=timedelta(hours=18, minutes=30, seconds=0)),\n",
    "    Session(customer_id='London Fields', restaurant_id='The British Museum',\n",
    "            timestamp=timedelta(hours=18, minutes=40, seconds=0))\n",
    "]"
   ],
   "metadata": {
    "collapsed": false,
    "pycharm": {
     "name": "#%%\n"
    }
   }
  },
  {
   "cell_type": "code",
   "execution_count": 9,
   "outputs": [],
   "source": [
    "couriers = [\n",
    "    Courier(id='Kenny Acheson', lat=51.5080, lng=-0.1281),\n",
    "    Courier(id='Cliff Allison', lat=51.5080, lng=-0.1281)\n",
    "]"
   ],
   "metadata": {
    "collapsed": false,
    "pycharm": {
     "name": "#%%\n"
    }
   }
  },
  {
   "cell_type": "code",
   "execution_count": 10,
   "outputs": [],
   "source": [
    "random_assigner = RandomAssigner()"
   ],
   "metadata": {
    "collapsed": false,
    "pycharm": {
     "name": "#%%\n"
    }
   }
  },
  {
   "cell_type": "code",
   "execution_count": 11,
   "outputs": [],
   "source": [
    "metrics = [\n",
    "    DeliveryTime(),\n",
    "    NumberOfOrdersDelivered()\n",
    "]"
   ],
   "metadata": {
    "collapsed": false,
    "pycharm": {
     "name": "#%%\n"
    }
   }
  },
  {
   "cell_type": "code",
   "execution_count": 12,
   "outputs": [],
   "source": [
    "simulation = Simulation(\n",
    "    restaurants=restaurants,\n",
    "    customers=customers,\n",
    "    sessions=sessions,\n",
    "    couriers=couriers,\n",
    "    assigner=random_assigner,\n",
    "    metrics=metrics\n",
    ")"
   ],
   "metadata": {
    "collapsed": false,
    "pycharm": {
     "name": "#%%\n"
    }
   }
  },
  {
   "cell_type": "code",
   "execution_count": 13,
   "outputs": [],
   "source": [
    "simulation.run()\n",
    "\n",
    "results = simulation.reporting.get_results()"
   ],
   "metadata": {
    "collapsed": false,
    "pycharm": {
     "name": "#%%\n"
    }
   }
  },
  {
   "cell_type": "markdown",
   "source": [
    "The longer the wait time, the longer the total delivery time. You\n",
    "can try to change the values of the wait distribution function and\n",
    "see how those changes impact the results. Similarly for wait times\n",
    "for customers if needed."
   ],
   "metadata": {
    "collapsed": false,
    "pycharm": {
     "name": "#%% md\n"
    }
   }
  },
  {
   "cell_type": "code",
   "execution_count": 14,
   "outputs": [
    {
     "data": {
      "text/plain": "{'DeliveryTime': Timedelta('0 days 00:49:47.957682'),\n 'NumberOfOrdersDelivered': 3}"
     },
     "execution_count": 14,
     "metadata": {},
     "output_type": "execute_result"
    }
   ],
   "source": [
    "results\n"
   ],
   "metadata": {
    "collapsed": false,
    "pycharm": {
     "name": "#%%\n"
    }
   }
  }
 ],
 "metadata": {
  "kernelspec": {
   "display_name": "Python 3",
   "language": "python",
   "name": "python3"
  },
  "language_info": {
   "codemirror_mode": {
    "name": "ipython",
    "version": 2
   },
   "file_extension": ".py",
   "mimetype": "text/x-python",
   "name": "python",
   "nbconvert_exporter": "python",
   "pygments_lexer": "ipython2",
   "version": "2.7.6"
  }
 },
 "nbformat": 4,
 "nbformat_minor": 0
}