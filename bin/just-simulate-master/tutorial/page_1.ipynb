{
 "cells": [
  {
   "cell_type": "markdown",
   "source": [
    "### A gentle intro to event driven systems\n",
    "\n",
    "This tutorial introduces some basic concepts of the event driven architecture\n",
    "implemented in the simulator. You can find more details about this paradigm\n",
    "[here](https://en.wikipedia.org/wiki/Event-driven_architecture). In this\n",
    "example we will implement to very basic agents, a cat and a dog, that basically\n",
    "talk to each other using message passing."
   ],
   "metadata": {
    "collapsed": false,
    "pycharm": {
     "name": "#%% md\n"
    }
   }
  },
  {
   "cell_type": "code",
   "execution_count": 1,
   "metadata": {
    "collapsed": true,
    "pycharm": {
     "name": "#%%\n"
    }
   },
   "outputs": [],
   "source": [
    "from just.simulate.env import Env\n",
    "from just.simulate.registrable import Registrable"
   ]
  },
  {
   "cell_type": "markdown",
   "source": [
    "All agents in the simulator should extend the class `Registrable`, providing\n",
    "the agents with some handy functions for interacting with the environment.\n",
    "This `cat` has a `name` and subscribes the handler `woof_handler` to `Woof`.\n",
    "This basically means that, every time the cat hears a `Woof` it will trigger\n",
    "that handler. This cat also has a `meow` function that sends a `Meow` to the\n",
    "environment and attaches some data to it, its name in particular."
   ],
   "metadata": {
    "collapsed": false,
    "pycharm": {
     "name": "#%% md\n"
    }
   }
  },
  {
   "cell_type": "code",
   "execution_count": 2,
   "outputs": [],
   "source": [
    "class Cat(Registrable):\n",
    "\n",
    "    def __init__(self, name: str) -> None:\n",
    "        super().__init__()\n",
    "        self.name = name\n",
    "\n",
    "    def subscribe(self):\n",
    "        self.add_subscription(\n",
    "            'Woof', self.woof_handler)\n",
    "\n",
    "    def meow(self):\n",
    "        print(f\"{self.name}: Meow!\")\n",
    "        self.env.publish('Meow', {'name': self.name})\n",
    "\n",
    "    def woof_handler(self, data: dict, **kwargs) -> None:\n",
    "        print(f\"{self.name}: {data['name']} has woofed at me!\")\n",
    "        print(f\"{self.name}: I will run away!\")"
   ],
   "metadata": {
    "collapsed": false,
    "pycharm": {
     "name": "#%%\n"
    }
   }
  },
  {
   "cell_type": "markdown",
   "source": [
    "Similarly, a `dog` will interact with the environment, but in this case it\n",
    "will react to `meow`. In order to do that, it will subscribe `meow_handler`\n",
    "to `Meow`, i.e. every time it hears a `meow` it will trigger that handler."
   ],
   "metadata": {
    "collapsed": false,
    "pycharm": {
     "name": "#%% md\n"
    }
   }
  },
  {
   "cell_type": "code",
   "execution_count": 3,
   "outputs": [],
   "source": [
    "class Dog(Registrable):\n",
    "\n",
    "    def __init__(self, name: str) -> None:\n",
    "        super().__init__()\n",
    "        self.name = name\n",
    "\n",
    "    def subscribe(self):\n",
    "        self.add_subscription(\n",
    "            'Meow', self.meow_handler)\n",
    "\n",
    "    def meow_handler(self, data: dict, **kwargs) -> None:\n",
    "        print(f\"{self.name}: {data['name']} has meowed at me!\")\n",
    "        print(f\"{self.name}: I will woof at him!\")\n",
    "        self.env.publish('Woof', {'name': self.name})"
   ],
   "metadata": {
    "collapsed": false,
    "pycharm": {
     "name": "#%%\n"
    }
   }
  },
  {
   "cell_type": "markdown",
   "source": [
    "Next, we create an environment where we register our cat and dog. Registering\n",
    "these two agents will allow them to interact in the environment."
   ],
   "metadata": {
    "collapsed": false,
    "pycharm": {
     "name": "#%% md\n"
    }
   }
  },
  {
   "cell_type": "code",
   "execution_count": 4,
   "outputs": [],
   "source": [
    "env = Env()\n",
    "cat = Cat('Grumpy')\n",
    "dog = Dog('Pavlov')\n",
    "env.register(cat)\n",
    "env.register(dog)"
   ],
   "metadata": {
    "collapsed": false,
    "pycharm": {
     "name": "#%%\n"
    }
   }
  },
  {
   "cell_type": "markdown",
   "source": [
    "The cat starts the interaction meowing."
   ],
   "metadata": {
    "collapsed": false
   }
  },
  {
   "cell_type": "code",
   "source": [
    "cat.meow()"
   ],
   "metadata": {
    "collapsed": false,
    "pycharm": {
     "name": "#%%\n"
    }
   },
   "execution_count": 5,
   "outputs": [
    {
     "name": "stdout",
     "output_type": "stream",
     "text": [
      "Grumpy: Meow!\n"
     ]
    }
   ]
  },
  {
   "cell_type": "markdown",
   "source": [
    "This is a discrete event simulator so we will need to run it. If the agents\n",
    "were implemented as threads, then the dog will have replied immediately. We\n",
    "have chosen discrete events because it seemed easier to implement things on,\n",
    "much easier to debug, and also more efficient and faster in execution."
   ],
   "metadata": {
    "collapsed": false
   }
  },
  {
   "cell_type": "code",
   "source": [
    "list(env.run())"
   ],
   "metadata": {
    "collapsed": false,
    "pycharm": {
     "name": "#%%\n"
    }
   },
   "execution_count": 6,
   "outputs": [
    {
     "name": "stdout",
     "output_type": "stream",
     "text": [
      "Pavlov: Grumpy has meowed at me!\n",
      "Pavlov: I will woof at him!\n",
      "Grumpy: Pavlov has woofed at me!\n",
      "Grumpy: I will run away!\n"
     ]
    },
    {
     "data": {
      "text/plain": "[('Meow', {'name': 'Grumpy'}), ('Woof', {'name': 'Pavlov'})]"
     },
     "execution_count": 6,
     "metadata": {},
     "output_type": "execute_result"
    }
   ]
  }
 ],
 "metadata": {
  "kernelspec": {
   "display_name": "Python 3",
   "language": "python",
   "name": "python3"
  },
  "language_info": {
   "codemirror_mode": {
    "name": "ipython",
    "version": 2
   },
   "file_extension": ".py",
   "mimetype": "text/x-python",
   "name": "python",
   "nbconvert_exporter": "python",
   "pygments_lexer": "ipython2",
   "version": "2.7.6"
  }
 },
 "nbformat": 4,
 "nbformat_minor": 0
}