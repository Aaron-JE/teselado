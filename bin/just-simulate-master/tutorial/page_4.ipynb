{
 "cells": [
  {
   "cell_type": "markdown",
   "source": [
    "### Running simulations with randomly generated data\n",
    "\n",
    "This example shows a simulation with randomly generated restaurants,\n",
    "customers, and couriers. These agents will be allocated to random locations\n",
    "around a centre point, with a maximum distance of `radius` from that centre."
   ],
   "metadata": {
    "collapsed": false,
    "pycharm": {
     "name": "#%% md\n"
    }
   }
  },
  {
   "cell_type": "code",
   "execution_count": 37,
   "metadata": {},
   "outputs": [],
   "source": [
    "import random\n",
    "\n",
    "from just.simulate.agent.courier import Courier\n",
    "from just.simulate.agent.customer import Customer\n",
    "from just.simulate.agent.restaurant import Restaurant\n",
    "from just.simulate.component.assigner import RandomAssigner\n",
    "from just.simulate.geo import random_lat_lng\n",
    "from just.simulate.metric import DeliveryTime\n",
    "from just.simulate.session import Session\n",
    "from just.simulate.simulation import Simulation\n",
    "from just.simulate.time_dist import TimeDist"
   ]
  },
  {
   "cell_type": "markdown",
   "source": [
    "We first configure the number of restaurants, customers and couriers we want\n",
    "to run our simulation with. This example will generate random locations within\n",
    "a radius of `1000` meters."
   ],
   "metadata": {
    "collapsed": false
   }
  },
  {
   "cell_type": "code",
   "execution_count": 38,
   "outputs": [],
   "source": [
    "num_restaurants = 5\n",
    "num_customers = 20\n",
    "radius = 10_000  # meters\n",
    "num_couriers = 5"
   ],
   "metadata": {
    "collapsed": false,
    "pycharm": {
     "name": "#%%\n"
    }
   }
  },
  {
   "cell_type": "markdown",
   "source": [
    "The time distribution will be used to generate sessions for random timestamps\n",
    "following the a normal distribution centered around `4PM` with a standard\n",
    "deviation of `1` hour."
   ],
   "metadata": {
    "collapsed": false,
    "pycharm": {
     "name": "#%% md\n"
    }
   }
  },
  {
   "cell_type": "code",
   "execution_count": 39,
   "outputs": [],
   "source": [
    "time_dist = TimeDist('norm', 16.0, 1.0, unit='hours')"
   ],
   "metadata": {
    "collapsed": false,
    "pycharm": {
     "name": "#%%\n"
    }
   }
  },
  {
   "cell_type": "code",
   "execution_count": 40,
   "metadata": {
    "pycharm": {
     "name": "#%%\n"
    }
   },
   "outputs": [],
   "source": [
    "restaurants = list([])\n",
    "for i in range(num_restaurants):\n",
    "    lat, lng = random_lat_lng(51.5076, -0.0994, radius)\n",
    "    restaurants.append(Restaurant(f'Restaurant {i}', lat, lng))"
   ]
  },
  {
   "cell_type": "code",
   "execution_count": 41,
   "outputs": [],
   "source": [
    "customers = list([])\n",
    "for j in range(num_customers):\n",
    "    lat, lng = random_lat_lng(51.5076, -0.0994, radius)\n",
    "    customers.append(Customer(f'Customer {j}', lat, lng))\n"
   ],
   "metadata": {
    "collapsed": false,
    "pycharm": {
     "name": "#%%\n"
    }
   }
  },
  {
   "cell_type": "code",
   "execution_count": 42,
   "outputs": [],
   "source": [
    "sessions = list([])\n",
    "for customer in customers:\n",
    "    restaurant = random.choice(restaurants)\n",
    "    timestamp = time_dist.random_variate()\n",
    "    sessions.append(Session(customer.id, restaurant.id, timestamp))"
   ],
   "metadata": {
    "collapsed": false,
    "pycharm": {
     "name": "#%%\n"
    }
   }
  },
  {
   "cell_type": "code",
   "execution_count": 43,
   "outputs": [],
   "source": [
    "couriers = list([])\n",
    "for k in range(num_couriers):\n",
    "    lat, lng = random_lat_lng(51.5076, -0.0994, radius)\n",
    "    couriers.append(Courier(f'Courier {k}', lat, lng))\n"
   ],
   "metadata": {
    "collapsed": false,
    "pycharm": {
     "name": "#%%\n"
    }
   }
  },
  {
   "cell_type": "code",
   "execution_count": 44,
   "outputs": [],
   "source": [
    "assigner = RandomAssigner()\n"
   ],
   "metadata": {
    "collapsed": false,
    "pycharm": {
     "name": "#%%\n"
    }
   }
  },
  {
   "cell_type": "code",
   "execution_count": 45,
   "outputs": [],
   "source": [
    "metrics = [\n",
    "    DeliveryTime()\n",
    "]"
   ],
   "metadata": {
    "collapsed": false,
    "pycharm": {
     "name": "#%%\n"
    }
   }
  },
  {
   "cell_type": "code",
   "execution_count": 46,
   "outputs": [],
   "source": [
    "simulation = Simulation(\n",
    "    restaurants=restaurants,\n",
    "    customers=customers,\n",
    "    sessions=sessions,\n",
    "    couriers=couriers,\n",
    "    assigner=assigner,\n",
    "    metrics=metrics\n",
    ")"
   ],
   "metadata": {
    "collapsed": false,
    "pycharm": {
     "name": "#%%\n"
    }
   }
  },
  {
   "cell_type": "code",
   "execution_count": 47,
   "outputs": [
    {
     "name": "stdout",
     "output_type": "stream",
     "text": [
      "0:00:00 simulation_started \n",
      "14:34:26.560539 customer_session_started {'customer_id': 'Customer 12', 'restaurant_id': 'Restaurant 3'}\n",
      "14:34:26.560539 order_placed     {'customer_id': 'Customer 12', 'restaurant_id': 'Restaurant 3'}\n",
      "14:34:26.560539 order_created    {'order_id': 5074767632, 'restaurant_id': 'Restaurant 3', 'customer_id': 'Customer 12'}\n",
      "14:34:26.560539 courier_assigned {'order_id': 5074767632, 'restaurant_id': 'Restaurant 3', 'customer_id': 'Customer 12', 'courier_id': 'Courier 3'}\n",
      "14:34:26.560539 courier_order_accepted {'order_id': 5074767632, 'restaurant_id': 'Restaurant 3', 'customer_id': 'Customer 12', 'courier_id': 'Courier 3'}\n",
      "14:34:26.560539 courier_job_started {'order_id': 5074767632, 'restaurant_id': 'Restaurant 3', 'customer_id': 'Customer 12', 'courier_id': 'Courier 3'}\n",
      "14:48:43.560539 courier_coords_updated {'courier_id': 'Courier 3', 'lat': 51.53853040801127, 'lng': -0.2340721303836822}\n",
      "14:48:43.560539 courier_at_restaurant {'order_id': 5074767632, 'restaurant_id': 'Restaurant 3', 'customer_id': 'Customer 12', 'courier_id': 'Courier 3'}\n",
      "14:48:43.560539 restaurant_order_ready {'order_id': 5074767632, 'restaurant_id': 'Restaurant 3', 'customer_id': 'Customer 12', 'courier_id': 'Courier 3'}\n",
      "15:10:23.560539 courier_coords_updated {'courier_id': 'Courier 3', 'lat': 51.44315247667255, 'lng': -0.12539406073776158}\n",
      "15:10:23.560539 courier_at_customer {'order_id': 5074767632, 'restaurant_id': 'Restaurant 3', 'customer_id': 'Customer 12', 'courier_id': 'Courier 3'}\n",
      "15:10:23.560539 customer_order_collected {'order_id': 5074767632, 'restaurant_id': 'Restaurant 3', 'customer_id': 'Customer 12', 'courier_id': 'Courier 3'}\n",
      "15:10:23.560539 order_delivered  {'order_id': 5074767632, 'restaurant_id': 'Restaurant 3', 'customer_id': 'Customer 12', 'courier_id': 'Courier 3'}\n",
      "15:10:41.675373 customer_session_started {'customer_id': 'Customer 7', 'restaurant_id': 'Restaurant 2'}\n",
      "15:10:41.675373 order_placed     {'customer_id': 'Customer 7', 'restaurant_id': 'Restaurant 2'}\n",
      "15:10:41.675373 order_created    {'order_id': 5072584528, 'restaurant_id': 'Restaurant 2', 'customer_id': 'Customer 7'}\n",
      "15:10:41.675373 courier_assigned {'order_id': 5072584528, 'restaurant_id': 'Restaurant 2', 'customer_id': 'Customer 7', 'courier_id': 'Courier 2'}\n",
      "15:10:41.675373 courier_order_accepted {'order_id': 5072584528, 'restaurant_id': 'Restaurant 2', 'customer_id': 'Customer 7', 'courier_id': 'Courier 2'}\n",
      "15:10:41.675373 courier_job_started {'order_id': 5072584528, 'restaurant_id': 'Restaurant 2', 'customer_id': 'Customer 7', 'courier_id': 'Courier 2'}\n",
      "15:19:40.168163 customer_session_started {'customer_id': 'Customer 6', 'restaurant_id': 'Restaurant 0'}\n",
      "15:19:40.168163 order_placed     {'customer_id': 'Customer 6', 'restaurant_id': 'Restaurant 0'}\n",
      "15:19:40.168163 order_created    {'order_id': 5072563216, 'restaurant_id': 'Restaurant 0', 'customer_id': 'Customer 6'}\n",
      "15:19:40.168163 courier_assigned {'order_id': 5072563216, 'restaurant_id': 'Restaurant 0', 'customer_id': 'Customer 6', 'courier_id': 'Courier 0'}\n",
      "15:19:40.168163 courier_order_accepted {'order_id': 5072563216, 'restaurant_id': 'Restaurant 0', 'customer_id': 'Customer 6', 'courier_id': 'Courier 0'}\n",
      "15:19:40.168163 courier_job_started {'order_id': 5072563216, 'restaurant_id': 'Restaurant 0', 'customer_id': 'Customer 6', 'courier_id': 'Courier 0'}\n",
      "15:22:34.386913 customer_session_started {'customer_id': 'Customer 17', 'restaurant_id': 'Restaurant 1'}\n",
      "15:22:34.386913 order_placed     {'customer_id': 'Customer 17', 'restaurant_id': 'Restaurant 1'}\n",
      "15:22:34.386913 order_created    {'order_id': 5072560720, 'restaurant_id': 'Restaurant 1', 'customer_id': 'Customer 17'}\n",
      "15:22:34.386913 courier_assigned {'order_id': 5072560720, 'restaurant_id': 'Restaurant 1', 'customer_id': 'Customer 17', 'courier_id': 'Courier 4'}\n",
      "15:22:34.386913 courier_order_accepted {'order_id': 5072560720, 'restaurant_id': 'Restaurant 1', 'customer_id': 'Customer 17', 'courier_id': 'Courier 4'}\n",
      "15:22:34.386913 courier_job_started {'order_id': 5072560720, 'restaurant_id': 'Restaurant 1', 'customer_id': 'Customer 17', 'courier_id': 'Courier 4'}\n",
      "15:23:44.772588 customer_session_started {'customer_id': 'Customer 4', 'restaurant_id': 'Restaurant 4'}\n",
      "15:23:44.772588 order_placed     {'customer_id': 'Customer 4', 'restaurant_id': 'Restaurant 4'}\n",
      "15:23:44.772588 order_created    {'order_id': 5072255504, 'restaurant_id': 'Restaurant 4', 'customer_id': 'Customer 4'}\n",
      "15:23:44.772588 courier_assigned {'order_id': 5072255504, 'restaurant_id': 'Restaurant 4', 'customer_id': 'Customer 4', 'courier_id': 'Courier 0'}\n",
      "15:23:44.772588 courier_order_accepted {'order_id': 5072255504, 'restaurant_id': 'Restaurant 4', 'customer_id': 'Customer 4', 'courier_id': 'Courier 0'}\n",
      "15:27:23.521119 customer_session_started {'customer_id': 'Customer 14', 'restaurant_id': 'Restaurant 3'}\n",
      "15:27:23.521119 order_placed     {'customer_id': 'Customer 14', 'restaurant_id': 'Restaurant 3'}\n",
      "15:27:23.521119 order_created    {'order_id': 5072232400, 'restaurant_id': 'Restaurant 3', 'customer_id': 'Customer 14'}\n",
      "15:27:23.521119 courier_assigned {'order_id': 5072232400, 'restaurant_id': 'Restaurant 3', 'customer_id': 'Customer 14', 'courier_id': 'Courier 0'}\n",
      "15:27:23.521119 courier_order_accepted {'order_id': 5072232400, 'restaurant_id': 'Restaurant 3', 'customer_id': 'Customer 14', 'courier_id': 'Courier 0'}\n",
      "15:30:28.675373 courier_coords_updated {'courier_id': 'Courier 2', 'lat': 51.49630152659193, 'lng': -0.2172444687414567}\n",
      "15:30:28.675373 courier_at_restaurant {'order_id': 5072584528, 'restaurant_id': 'Restaurant 2', 'customer_id': 'Customer 7', 'courier_id': 'Courier 2'}\n",
      "15:30:28.675373 restaurant_order_ready {'order_id': 5072584528, 'restaurant_id': 'Restaurant 2', 'customer_id': 'Customer 7', 'courier_id': 'Courier 2'}\n",
      "15:30:49.168163 courier_coords_updated {'courier_id': 'Courier 0', 'lat': 51.49129345131254, 'lng': -0.022257894675469056}\n",
      "15:30:49.168163 courier_at_restaurant {'order_id': 5072563216, 'restaurant_id': 'Restaurant 0', 'customer_id': 'Customer 6', 'courier_id': 'Courier 0'}\n",
      "15:30:49.168163 restaurant_order_ready {'order_id': 5072563216, 'restaurant_id': 'Restaurant 0', 'customer_id': 'Customer 6', 'courier_id': 'Courier 0'}\n",
      "15:33:56.386913 courier_coords_updated {'courier_id': 'Courier 4', 'lat': 51.45993048246267, 'lng': -0.1206135415954075}\n",
      "15:33:56.386913 courier_at_restaurant {'order_id': 5072560720, 'restaurant_id': 'Restaurant 1', 'customer_id': 'Customer 17', 'courier_id': 'Courier 4'}\n",
      "15:33:56.386913 restaurant_order_ready {'order_id': 5072560720, 'restaurant_id': 'Restaurant 1', 'customer_id': 'Customer 17', 'courier_id': 'Courier 4'}\n",
      "15:39:43.386913 courier_at_customer {'order_id': 5072560720, 'restaurant_id': 'Restaurant 1', 'customer_id': 'Customer 17', 'courier_id': 'Courier 4'}\n",
      "15:39:43.386913 courier_coords_updated {'courier_id': 'Courier 4', 'lat': 51.482733245443775, 'lng': -0.08639180629112138}\n",
      "15:39:43.386913 customer_order_collected {'order_id': 5072560720, 'restaurant_id': 'Restaurant 1', 'customer_id': 'Customer 17', 'courier_id': 'Courier 4'}\n",
      "15:39:43.386913 order_delivered  {'order_id': 5072560720, 'restaurant_id': 'Restaurant 1', 'customer_id': 'Customer 17', 'courier_id': 'Courier 4'}\n",
      "15:40:48.479847 customer_session_started {'customer_id': 'Customer 13', 'restaurant_id': 'Restaurant 0'}\n",
      "15:40:48.479847 order_placed     {'customer_id': 'Customer 13', 'restaurant_id': 'Restaurant 0'}\n",
      "15:40:48.479847 order_created    {'order_id': 5072254096, 'restaurant_id': 'Restaurant 0', 'customer_id': 'Customer 13'}\n",
      "15:40:48.479847 courier_assigned {'order_id': 5072254096, 'restaurant_id': 'Restaurant 0', 'customer_id': 'Customer 13', 'courier_id': 'Courier 1'}\n",
      "15:40:48.479847 courier_order_accepted {'order_id': 5072254096, 'restaurant_id': 'Restaurant 0', 'customer_id': 'Customer 13', 'courier_id': 'Courier 1'}\n",
      "15:40:48.479847 courier_job_started {'order_id': 5072254096, 'restaurant_id': 'Restaurant 0', 'customer_id': 'Customer 13', 'courier_id': 'Courier 1'}\n",
      "15:43:10.168163 courier_coords_updated {'courier_id': 'Courier 0', 'lat': 51.47148446261913, 'lng': -0.12446178341282471}\n",
      "15:43:10.168163 courier_at_customer {'order_id': 5072563216, 'restaurant_id': 'Restaurant 0', 'customer_id': 'Customer 6', 'courier_id': 'Courier 0'}\n",
      "15:43:10.168163 customer_order_collected {'order_id': 5072563216, 'restaurant_id': 'Restaurant 0', 'customer_id': 'Customer 6', 'courier_id': 'Courier 0'}\n",
      "15:43:10.168163 courier_job_started {'order_id': 5072255504, 'restaurant_id': 'Restaurant 4', 'customer_id': 'Customer 4', 'courier_id': 'Courier 0'}\n",
      "15:43:10.168163 order_delivered  {'order_id': 5072563216, 'restaurant_id': 'Restaurant 0', 'customer_id': 'Customer 6', 'courier_id': 'Courier 0'}\n",
      "15:50:39.675373 courier_coords_updated {'courier_id': 'Courier 2', 'lat': 51.501420949821025, 'lng': -0.042427037161996126}\n",
      "15:50:39.675373 courier_at_customer {'order_id': 5072584528, 'restaurant_id': 'Restaurant 2', 'customer_id': 'Customer 7', 'courier_id': 'Courier 2'}\n",
      "15:50:39.675373 customer_order_collected {'order_id': 5072584528, 'restaurant_id': 'Restaurant 2', 'customer_id': 'Customer 7', 'courier_id': 'Courier 2'}\n",
      "15:50:39.675373 order_delivered  {'order_id': 5072584528, 'restaurant_id': 'Restaurant 2', 'customer_id': 'Customer 7', 'courier_id': 'Courier 2'}\n",
      "15:51:26.153891 customer_session_started {'customer_id': 'Customer 8', 'restaurant_id': 'Restaurant 2'}\n",
      "15:51:26.153891 order_placed     {'customer_id': 'Customer 8', 'restaurant_id': 'Restaurant 2'}\n",
      "15:51:26.153891 order_created    {'order_id': 5072562128, 'restaurant_id': 'Restaurant 2', 'customer_id': 'Customer 8'}\n",
      "15:51:26.153891 courier_assigned {'order_id': 5072562128, 'restaurant_id': 'Restaurant 2', 'customer_id': 'Customer 8', 'courier_id': 'Courier 2'}\n",
      "15:51:26.153891 courier_order_accepted {'order_id': 5072562128, 'restaurant_id': 'Restaurant 2', 'customer_id': 'Customer 8', 'courier_id': 'Courier 2'}\n",
      "15:51:26.153891 courier_job_started {'order_id': 5072562128, 'restaurant_id': 'Restaurant 2', 'customer_id': 'Customer 8', 'courier_id': 'Courier 2'}\n",
      "15:59:20.168163 courier_at_restaurant {'order_id': 5072255504, 'restaurant_id': 'Restaurant 4', 'customer_id': 'Customer 4', 'courier_id': 'Courier 0'}\n",
      "15:59:20.168163 courier_coords_updated {'courier_id': 'Courier 0', 'lat': 51.50702883147439, 'lng': 0.003567891049919017}\n",
      "15:59:20.168163 restaurant_order_ready {'order_id': 5072255504, 'restaurant_id': 'Restaurant 4', 'customer_id': 'Customer 4', 'courier_id': 'Courier 0'}\n",
      "16:01:14.168163 courier_coords_updated {'courier_id': 'Courier 0', 'lat': 51.49980318419314, 'lng': 0.015445957702592036}\n",
      "16:01:14.168163 courier_at_customer {'order_id': 5072255504, 'restaurant_id': 'Restaurant 4', 'customer_id': 'Customer 4', 'courier_id': 'Courier 0'}\n",
      "16:01:14.168163 customer_order_collected {'order_id': 5072255504, 'restaurant_id': 'Restaurant 4', 'customer_id': 'Customer 4', 'courier_id': 'Courier 0'}\n",
      "16:01:14.168163 order_delivered  {'order_id': 5072255504, 'restaurant_id': 'Restaurant 4', 'customer_id': 'Customer 4', 'courier_id': 'Courier 0'}\n",
      "16:01:14.168163 courier_job_started {'order_id': 5072232400, 'restaurant_id': 'Restaurant 3', 'customer_id': 'Customer 14', 'courier_id': 'Courier 0'}\n",
      "16:04:15.479847 courier_at_restaurant {'order_id': 5072254096, 'restaurant_id': 'Restaurant 0', 'customer_id': 'Customer 13', 'courier_id': 'Courier 1'}\n",
      "16:04:15.479847 restaurant_order_ready {'order_id': 5072254096, 'restaurant_id': 'Restaurant 0', 'customer_id': 'Customer 13', 'courier_id': 'Courier 1'}\n",
      "16:04:15.479847 courier_coords_updated {'courier_id': 'Courier 1', 'lat': 51.49129345131254, 'lng': -0.022257894675469056}\n",
      "16:04:24.790603 customer_session_started {'customer_id': 'Customer 3', 'restaurant_id': 'Restaurant 0'}\n",
      "16:04:24.790603 order_placed     {'customer_id': 'Customer 3', 'restaurant_id': 'Restaurant 0'}\n",
      "16:04:24.790603 order_created    {'order_id': 5072255376, 'restaurant_id': 'Restaurant 0', 'customer_id': 'Customer 3'}\n",
      "16:04:24.790603 courier_assigned {'order_id': 5072255376, 'restaurant_id': 'Restaurant 0', 'customer_id': 'Customer 3', 'courier_id': 'Courier 3'}\n",
      "16:04:24.790603 courier_order_accepted {'order_id': 5072255376, 'restaurant_id': 'Restaurant 0', 'customer_id': 'Customer 3', 'courier_id': 'Courier 3'}\n",
      "16:04:24.790603 courier_job_started {'order_id': 5072255376, 'restaurant_id': 'Restaurant 0', 'customer_id': 'Customer 3', 'courier_id': 'Courier 3'}\n",
      "16:11:05.479847 courier_at_customer {'order_id': 5072254096, 'restaurant_id': 'Restaurant 0', 'customer_id': 'Customer 13', 'courier_id': 'Courier 1'}\n",
      "16:11:05.479847 customer_order_collected {'order_id': 5072254096, 'restaurant_id': 'Restaurant 0', 'customer_id': 'Customer 13', 'courier_id': 'Courier 1'}\n",
      "16:11:05.479847 order_delivered  {'order_id': 5072254096, 'restaurant_id': 'Restaurant 0', 'customer_id': 'Customer 13', 'courier_id': 'Courier 1'}\n",
      "16:11:05.479847 courier_coords_updated {'courier_id': 'Courier 1', 'lat': 51.455030495959946, 'lng': -0.011266445323565036}\n",
      "16:11:37.153891 courier_coords_updated {'courier_id': 'Courier 2', 'lat': 51.49630152659193, 'lng': -0.2172444687414567}\n",
      "16:11:37.153891 courier_at_restaurant {'order_id': 5072562128, 'restaurant_id': 'Restaurant 2', 'customer_id': 'Customer 8', 'courier_id': 'Courier 2'}\n",
      "16:11:37.153891 restaurant_order_ready {'order_id': 5072562128, 'restaurant_id': 'Restaurant 2', 'customer_id': 'Customer 8', 'courier_id': 'Courier 2'}\n",
      "16:19:16.790603 courier_coords_updated {'courier_id': 'Courier 3', 'lat': 51.49129345131254, 'lng': -0.022257894675469056}\n",
      "16:19:16.790603 courier_at_restaurant {'order_id': 5072255376, 'restaurant_id': 'Restaurant 0', 'customer_id': 'Customer 3', 'courier_id': 'Courier 3'}\n",
      "16:19:16.790603 restaurant_order_ready {'order_id': 5072255376, 'restaurant_id': 'Restaurant 0', 'customer_id': 'Customer 3', 'courier_id': 'Courier 3'}\n",
      "16:23:31.821199 customer_session_started {'customer_id': 'Customer 15', 'restaurant_id': 'Restaurant 1'}\n",
      "16:23:31.821199 order_placed     {'customer_id': 'Customer 15', 'restaurant_id': 'Restaurant 1'}\n",
      "16:23:31.821199 order_created    {'order_id': 5072562384, 'restaurant_id': 'Restaurant 1', 'customer_id': 'Customer 15'}\n",
      "16:23:31.821199 courier_assigned {'order_id': 5072562384, 'restaurant_id': 'Restaurant 1', 'customer_id': 'Customer 15', 'courier_id': 'Courier 4'}\n",
      "16:23:31.821199 courier_order_accepted {'order_id': 5072562384, 'restaurant_id': 'Restaurant 1', 'customer_id': 'Customer 15', 'courier_id': 'Courier 4'}\n",
      "16:23:31.821199 courier_job_started {'order_id': 5072562384, 'restaurant_id': 'Restaurant 1', 'customer_id': 'Customer 15', 'courier_id': 'Courier 4'}\n",
      "16:29:18.821199 courier_at_restaurant {'order_id': 5072562384, 'restaurant_id': 'Restaurant 1', 'customer_id': 'Customer 15', 'courier_id': 'Courier 4'}\n",
      "16:29:18.821199 restaurant_order_ready {'order_id': 5072562384, 'restaurant_id': 'Restaurant 1', 'customer_id': 'Customer 15', 'courier_id': 'Courier 4'}\n",
      "16:29:18.821199 courier_coords_updated {'courier_id': 'Courier 4', 'lat': 51.45993048246267, 'lng': -0.1206135415954075}\n",
      "16:29:22.153891 courier_at_customer {'order_id': 5072562128, 'restaurant_id': 'Restaurant 2', 'customer_id': 'Customer 8', 'courier_id': 'Courier 2'}\n",
      "16:29:22.153891 courier_coords_updated {'courier_id': 'Courier 2', 'lat': 51.49723664581393, 'lng': -0.06338524292594569}\n",
      "16:29:22.153891 customer_order_collected {'order_id': 5072562128, 'restaurant_id': 'Restaurant 2', 'customer_id': 'Customer 8', 'courier_id': 'Courier 2'}\n",
      "16:29:22.153891 order_delivered  {'order_id': 5072562128, 'restaurant_id': 'Restaurant 2', 'customer_id': 'Customer 8', 'courier_id': 'Courier 2'}\n",
      "16:30:53.168163 courier_at_restaurant {'order_id': 5072232400, 'restaurant_id': 'Restaurant 3', 'customer_id': 'Customer 14', 'courier_id': 'Courier 0'}\n",
      "16:30:53.168163 courier_coords_updated {'courier_id': 'Courier 0', 'lat': 51.53853040801127, 'lng': -0.2340721303836822}\n",
      "16:30:53.168163 restaurant_order_ready {'order_id': 5072232400, 'restaurant_id': 'Restaurant 3', 'customer_id': 'Customer 14', 'courier_id': 'Courier 0'}\n",
      "16:32:32.720214 customer_session_started {'customer_id': 'Customer 2', 'restaurant_id': 'Restaurant 2'}\n",
      "16:32:32.720214 order_placed     {'customer_id': 'Customer 2', 'restaurant_id': 'Restaurant 2'}\n",
      "16:32:32.720214 order_created    {'order_id': 5072563344, 'restaurant_id': 'Restaurant 2', 'customer_id': 'Customer 2'}\n",
      "16:32:32.720214 courier_assigned {'order_id': 5072563344, 'restaurant_id': 'Restaurant 2', 'customer_id': 'Customer 2', 'courier_id': 'Courier 2'}\n",
      "16:32:32.720214 courier_order_accepted {'order_id': 5072563344, 'restaurant_id': 'Restaurant 2', 'customer_id': 'Customer 2', 'courier_id': 'Courier 2'}\n",
      "16:32:32.720214 courier_job_started {'order_id': 5072563344, 'restaurant_id': 'Restaurant 2', 'customer_id': 'Customer 2', 'courier_id': 'Courier 2'}\n",
      "16:32:49.433363 customer_session_started {'customer_id': 'Customer 5', 'restaurant_id': 'Restaurant 2'}\n",
      "16:32:49.433363 order_placed     {'customer_id': 'Customer 5', 'restaurant_id': 'Restaurant 2'}\n",
      "16:32:49.433363 order_created    {'order_id': 5072562640, 'restaurant_id': 'Restaurant 2', 'customer_id': 'Customer 5'}\n",
      "16:32:49.433363 courier_assigned {'order_id': 5072562640, 'restaurant_id': 'Restaurant 2', 'customer_id': 'Customer 5', 'courier_id': 'Courier 0'}\n",
      "16:32:49.433363 courier_order_accepted {'order_id': 5072562640, 'restaurant_id': 'Restaurant 2', 'customer_id': 'Customer 5', 'courier_id': 'Courier 0'}\n",
      "16:33:08.186656 customer_session_started {'customer_id': 'Customer 19', 'restaurant_id': 'Restaurant 3'}\n",
      "16:33:08.186656 order_placed     {'customer_id': 'Customer 19', 'restaurant_id': 'Restaurant 3'}\n",
      "16:33:08.186656 order_created    {'order_id': 5072253904, 'restaurant_id': 'Restaurant 3', 'customer_id': 'Customer 19'}\n",
      "16:33:08.186656 courier_assigned {'order_id': 5072253904, 'restaurant_id': 'Restaurant 3', 'customer_id': 'Customer 19', 'courier_id': 'Courier 0'}\n",
      "16:33:08.186656 courier_order_accepted {'order_id': 5072253904, 'restaurant_id': 'Restaurant 3', 'customer_id': 'Customer 19', 'courier_id': 'Courier 0'}\n",
      "16:38:05.491907 customer_session_started {'customer_id': 'Customer 16', 'restaurant_id': 'Restaurant 0'}\n",
      "16:38:05.491907 order_placed     {'customer_id': 'Customer 16', 'restaurant_id': 'Restaurant 0'}\n",
      "16:38:05.491907 order_created    {'order_id': 5072582608, 'restaurant_id': 'Restaurant 0', 'customer_id': 'Customer 16'}\n",
      "16:38:05.491907 courier_assigned {'order_id': 5072582608, 'restaurant_id': 'Restaurant 0', 'customer_id': 'Customer 16', 'courier_id': 'Courier 2'}\n",
      "16:38:05.491907 courier_order_accepted {'order_id': 5072582608, 'restaurant_id': 'Restaurant 0', 'customer_id': 'Customer 16', 'courier_id': 'Courier 2'}\n",
      "16:38:50.821199 courier_at_customer {'order_id': 5072562384, 'restaurant_id': 'Restaurant 1', 'customer_id': 'Customer 15', 'courier_id': 'Courier 4'}\n",
      "16:38:50.821199 customer_order_collected {'order_id': 5072562384, 'restaurant_id': 'Restaurant 1', 'customer_id': 'Customer 15', 'courier_id': 'Courier 4'}\n",
      "16:38:50.821199 order_delivered  {'order_id': 5072562384, 'restaurant_id': 'Restaurant 1', 'customer_id': 'Customer 15', 'courier_id': 'Courier 4'}\n",
      "16:38:50.821199 courier_coords_updated {'courier_id': 'Courier 4', 'lat': 51.46609430947189, 'lng': -0.03858854812935583}\n",
      "16:41:57.301553 customer_session_started {'customer_id': 'Customer 1', 'restaurant_id': 'Restaurant 0'}\n",
      "16:41:57.301553 order_placed     {'customer_id': 'Customer 1', 'restaurant_id': 'Restaurant 0'}\n",
      "16:41:57.301553 order_created    {'order_id': 5072254608, 'restaurant_id': 'Restaurant 0', 'customer_id': 'Customer 1'}\n",
      "16:41:57.301553 courier_assigned {'order_id': 5072254608, 'restaurant_id': 'Restaurant 0', 'customer_id': 'Customer 1', 'courier_id': 'Courier 4'}\n",
      "16:41:57.301553 courier_order_accepted {'order_id': 5072254608, 'restaurant_id': 'Restaurant 0', 'customer_id': 'Customer 1', 'courier_id': 'Courier 4'}\n",
      "16:41:57.301553 courier_job_started {'order_id': 5072254608, 'restaurant_id': 'Restaurant 0', 'customer_id': 'Customer 1', 'courier_id': 'Courier 4'}\n",
      "16:44:54.790603 courier_at_customer {'order_id': 5072255376, 'restaurant_id': 'Restaurant 0', 'customer_id': 'Customer 3', 'courier_id': 'Courier 3'}\n",
      "16:44:54.790603 customer_order_collected {'order_id': 5072255376, 'restaurant_id': 'Restaurant 0', 'customer_id': 'Customer 3', 'courier_id': 'Courier 3'}\n",
      "16:44:54.790603 courier_coords_updated {'courier_id': 'Courier 3', 'lat': 51.509453958410475, 'lng': -0.24261170636842383}\n",
      "16:44:54.790603 order_delivered  {'order_id': 5072255376, 'restaurant_id': 'Restaurant 0', 'customer_id': 'Customer 3', 'courier_id': 'Courier 3'}\n",
      "16:46:29.953120 customer_session_started {'customer_id': 'Customer 18', 'restaurant_id': 'Restaurant 4'}\n",
      "16:46:29.953120 order_placed     {'customer_id': 'Customer 18', 'restaurant_id': 'Restaurant 4'}\n",
      "16:46:29.953120 order_created    {'order_id': 5072563664, 'restaurant_id': 'Restaurant 4', 'customer_id': 'Customer 18'}\n",
      "16:46:29.953120 courier_assigned {'order_id': 5072563664, 'restaurant_id': 'Restaurant 4', 'customer_id': 'Customer 18', 'courier_id': 'Courier 0'}\n",
      "16:46:29.953120 courier_order_accepted {'order_id': 5072563664, 'restaurant_id': 'Restaurant 4', 'customer_id': 'Customer 18', 'courier_id': 'Courier 0'}\n",
      "16:46:59.301553 courier_at_restaurant {'order_id': 5072254608, 'restaurant_id': 'Restaurant 0', 'customer_id': 'Customer 1', 'courier_id': 'Courier 4'}\n",
      "16:46:59.301553 restaurant_order_ready {'order_id': 5072254608, 'restaurant_id': 'Restaurant 0', 'customer_id': 'Customer 1', 'courier_id': 'Courier 4'}\n",
      "16:46:59.301553 courier_coords_updated {'courier_id': 'Courier 4', 'lat': 51.49129345131254, 'lng': -0.022257894675469056}\n",
      "16:48:07.168163 courier_at_customer {'order_id': 5072232400, 'restaurant_id': 'Restaurant 3', 'customer_id': 'Customer 14', 'courier_id': 'Courier 0'}\n",
      "16:48:07.168163 courier_coords_updated {'courier_id': 'Courier 0', 'lat': 51.517485656570216, 'lng': -0.08838049595047597}\n",
      "16:48:07.168163 customer_order_collected {'order_id': 5072232400, 'restaurant_id': 'Restaurant 3', 'customer_id': 'Customer 14', 'courier_id': 'Courier 0'}\n",
      "16:48:07.168163 courier_job_started {'order_id': 5072562640, 'restaurant_id': 'Restaurant 2', 'customer_id': 'Customer 5', 'courier_id': 'Courier 0'}\n",
      "16:48:07.168163 order_delivered  {'order_id': 5072232400, 'restaurant_id': 'Restaurant 3', 'customer_id': 'Customer 14', 'courier_id': 'Courier 0'}\n",
      "16:49:46.301553 courier_at_customer {'order_id': 5072254608, 'restaurant_id': 'Restaurant 0', 'customer_id': 'Customer 1', 'courier_id': 'Courier 4'}\n",
      "16:49:46.301553 courier_coords_updated {'courier_id': 'Courier 4', 'lat': 51.48253345189696, 'lng': -0.041957736630456606}\n",
      "16:49:46.301553 customer_order_collected {'order_id': 5072254608, 'restaurant_id': 'Restaurant 0', 'customer_id': 'Customer 1', 'courier_id': 'Courier 4'}\n",
      "16:49:46.301553 order_delivered  {'order_id': 5072254608, 'restaurant_id': 'Restaurant 0', 'customer_id': 'Customer 1', 'courier_id': 'Courier 4'}\n",
      "16:50:17.720214 courier_at_restaurant {'order_id': 5072563344, 'restaurant_id': 'Restaurant 2', 'customer_id': 'Customer 2', 'courier_id': 'Courier 2'}\n",
      "16:50:17.720214 restaurant_order_ready {'order_id': 5072563344, 'restaurant_id': 'Restaurant 2', 'customer_id': 'Customer 2', 'courier_id': 'Courier 2'}\n",
      "16:50:17.720214 courier_coords_updated {'courier_id': 'Courier 2', 'lat': 51.49630152659193, 'lng': -0.2172444687414567}\n",
      "16:58:16.720214 courier_coords_updated {'courier_id': 'Courier 2', 'lat': 51.52737175923551, 'lng': -0.1692329460529155}\n",
      "16:58:16.720214 courier_at_customer {'order_id': 5072563344, 'restaurant_id': 'Restaurant 2', 'customer_id': 'Customer 2', 'courier_id': 'Courier 2'}\n",
      "16:58:16.720214 customer_order_collected {'order_id': 5072563344, 'restaurant_id': 'Restaurant 2', 'customer_id': 'Customer 2', 'courier_id': 'Courier 2'}\n",
      "16:58:16.720214 courier_job_started {'order_id': 5072582608, 'restaurant_id': 'Restaurant 0', 'customer_id': 'Customer 16', 'courier_id': 'Courier 2'}\n",
      "16:58:16.720214 order_delivered  {'order_id': 5072563344, 'restaurant_id': 'Restaurant 2', 'customer_id': 'Customer 2', 'courier_id': 'Courier 2'}\n",
      "17:03:29.168163 courier_at_restaurant {'order_id': 5072562640, 'restaurant_id': 'Restaurant 2', 'customer_id': 'Customer 5', 'courier_id': 'Courier 0'}\n",
      "17:03:29.168163 restaurant_order_ready {'order_id': 5072562640, 'restaurant_id': 'Restaurant 2', 'customer_id': 'Customer 5', 'courier_id': 'Courier 0'}\n",
      "17:03:29.168163 courier_coords_updated {'courier_id': 'Courier 0', 'lat': 51.49630152659193, 'lng': -0.2172444687414567}\n",
      "17:04:15.537726 customer_session_started {'customer_id': 'Customer 9', 'restaurant_id': 'Restaurant 1'}\n",
      "17:04:15.537726 order_placed     {'customer_id': 'Customer 9', 'restaurant_id': 'Restaurant 1'}\n",
      "17:04:15.537726 order_created    {'order_id': 5072253264, 'restaurant_id': 'Restaurant 1', 'customer_id': 'Customer 9'}\n",
      "17:04:15.537726 courier_assigned {'order_id': 5072253264, 'restaurant_id': 'Restaurant 1', 'customer_id': 'Customer 9', 'courier_id': 'Courier 2'}\n",
      "17:04:15.537726 courier_order_accepted {'order_id': 5072253264, 'restaurant_id': 'Restaurant 1', 'customer_id': 'Customer 9', 'courier_id': 'Courier 2'}\n",
      "17:16:29.720214 courier_at_restaurant {'order_id': 5072582608, 'restaurant_id': 'Restaurant 0', 'customer_id': 'Customer 16', 'courier_id': 'Courier 2'}\n",
      "17:16:29.720214 restaurant_order_ready {'order_id': 5072582608, 'restaurant_id': 'Restaurant 0', 'customer_id': 'Customer 16', 'courier_id': 'Courier 2'}\n",
      "17:16:29.720214 courier_coords_updated {'courier_id': 'Courier 2', 'lat': 51.49129345131254, 'lng': -0.022257894675469056}\n",
      "17:20:20.168163 courier_coords_updated {'courier_id': 'Courier 0', 'lat': 51.44581808694537, 'lng': -0.09569730835308159}\n",
      "17:20:20.168163 courier_at_customer {'order_id': 5072562640, 'restaurant_id': 'Restaurant 2', 'customer_id': 'Customer 5', 'courier_id': 'Courier 0'}\n",
      "17:20:20.168163 customer_order_collected {'order_id': 5072562640, 'restaurant_id': 'Restaurant 2', 'customer_id': 'Customer 5', 'courier_id': 'Courier 0'}\n",
      "17:20:20.168163 courier_job_started {'order_id': 5072253904, 'restaurant_id': 'Restaurant 3', 'customer_id': 'Customer 19', 'courier_id': 'Courier 0'}\n",
      "17:20:20.168163 order_delivered  {'order_id': 5072562640, 'restaurant_id': 'Restaurant 2', 'customer_id': 'Customer 5', 'courier_id': 'Courier 0'}\n",
      "17:24:36.533495 customer_session_started {'customer_id': 'Customer 0', 'restaurant_id': 'Restaurant 3'}\n",
      "17:24:36.533495 order_placed     {'customer_id': 'Customer 0', 'restaurant_id': 'Restaurant 3'}\n",
      "17:24:36.533495 order_created    {'order_id': 5072583696, 'restaurant_id': 'Restaurant 3', 'customer_id': 'Customer 0'}\n",
      "17:24:36.533495 courier_assigned {'order_id': 5072583696, 'restaurant_id': 'Restaurant 3', 'customer_id': 'Customer 0', 'courier_id': 'Courier 1'}\n",
      "17:24:36.533495 courier_order_accepted {'order_id': 5072583696, 'restaurant_id': 'Restaurant 3', 'customer_id': 'Customer 0', 'courier_id': 'Courier 1'}\n",
      "17:24:36.533495 courier_job_started {'order_id': 5072583696, 'restaurant_id': 'Restaurant 3', 'customer_id': 'Customer 0', 'courier_id': 'Courier 1'}\n",
      "17:27:17.720214 courier_coords_updated {'courier_id': 'Courier 2', 'lat': 51.5432690175841, 'lng': -0.06463588479550482}\n",
      "17:27:17.720214 courier_at_customer {'order_id': 5072582608, 'restaurant_id': 'Restaurant 0', 'customer_id': 'Customer 16', 'courier_id': 'Courier 2'}\n",
      "17:27:17.720214 customer_order_collected {'order_id': 5072582608, 'restaurant_id': 'Restaurant 0', 'customer_id': 'Customer 16', 'courier_id': 'Courier 2'}\n",
      "17:27:17.720214 courier_job_started {'order_id': 5072253264, 'restaurant_id': 'Restaurant 1', 'customer_id': 'Customer 9', 'courier_id': 'Courier 2'}\n",
      "17:27:17.720214 order_delivered  {'order_id': 5072582608, 'restaurant_id': 'Restaurant 0', 'customer_id': 'Customer 16', 'courier_id': 'Courier 2'}\n",
      "17:39:43.714074 customer_session_started {'customer_id': 'Customer 10', 'restaurant_id': 'Restaurant 2'}\n",
      "17:39:43.714074 order_placed     {'customer_id': 'Customer 10', 'restaurant_id': 'Restaurant 2'}\n",
      "17:39:43.714074 order_created    {'order_id': 5072584272, 'restaurant_id': 'Restaurant 2', 'customer_id': 'Customer 10'}\n",
      "17:39:43.714074 courier_assigned {'order_id': 5072584272, 'restaurant_id': 'Restaurant 2', 'customer_id': 'Customer 10', 'courier_id': 'Courier 0'}\n",
      "17:39:43.714074 courier_order_accepted {'order_id': 5072584272, 'restaurant_id': 'Restaurant 2', 'customer_id': 'Customer 10', 'courier_id': 'Courier 0'}\n",
      "17:43:47.168163 courier_at_restaurant {'order_id': 5072253904, 'restaurant_id': 'Restaurant 3', 'customer_id': 'Customer 19', 'courier_id': 'Courier 0'}\n",
      "17:43:47.168163 restaurant_order_ready {'order_id': 5072253904, 'restaurant_id': 'Restaurant 3', 'customer_id': 'Customer 19', 'courier_id': 'Courier 0'}\n",
      "17:43:47.168163 courier_coords_updated {'courier_id': 'Courier 0', 'lat': 51.53853040801127, 'lng': -0.2340721303836822}\n",
      "17:44:01.720214 courier_coords_updated {'courier_id': 'Courier 2', 'lat': 51.45993048246267, 'lng': -0.1206135415954075}\n",
      "17:44:01.720214 courier_at_restaurant {'order_id': 5072253264, 'restaurant_id': 'Restaurant 1', 'customer_id': 'Customer 9', 'courier_id': 'Courier 2'}\n",
      "17:44:01.720214 restaurant_order_ready {'order_id': 5072253264, 'restaurant_id': 'Restaurant 1', 'customer_id': 'Customer 9', 'courier_id': 'Courier 2'}\n",
      "17:47:40.814329 customer_session_started {'customer_id': 'Customer 11', 'restaurant_id': 'Restaurant 0'}\n",
      "17:47:40.814329 order_placed     {'customer_id': 'Customer 11', 'restaurant_id': 'Restaurant 0'}\n",
      "17:47:40.814329 order_created    {'order_id': 5072254352, 'restaurant_id': 'Restaurant 0', 'customer_id': 'Customer 11'}\n",
      "17:47:40.814329 courier_assigned {'order_id': 5072254352, 'restaurant_id': 'Restaurant 0', 'customer_id': 'Customer 11', 'courier_id': 'Courier 1'}\n",
      "17:47:40.814329 courier_order_accepted {'order_id': 5072254352, 'restaurant_id': 'Restaurant 0', 'customer_id': 'Customer 11', 'courier_id': 'Courier 1'}\n",
      "17:52:16.168163 courier_at_customer {'order_id': 5072253904, 'restaurant_id': 'Restaurant 3', 'customer_id': 'Customer 19', 'courier_id': 'Courier 0'}\n",
      "17:52:16.168163 customer_order_collected {'order_id': 5072253904, 'restaurant_id': 'Restaurant 3', 'customer_id': 'Customer 19', 'courier_id': 'Courier 0'}\n",
      "17:52:16.168163 order_delivered  {'order_id': 5072253904, 'restaurant_id': 'Restaurant 3', 'customer_id': 'Customer 19', 'courier_id': 'Courier 0'}\n",
      "17:52:16.168163 courier_job_started {'order_id': 5072563664, 'restaurant_id': 'Restaurant 4', 'customer_id': 'Customer 18', 'courier_id': 'Courier 0'}\n",
      "17:52:16.168163 courier_coords_updated {'courier_id': 'Courier 0', 'lat': 51.49628562177936, 'lng': -0.20538313405396952}\n",
      "17:53:00.720214 courier_coords_updated {'courier_id': 'Courier 2', 'lat': 51.4648795949025, 'lng': -0.19809509075466986}\n",
      "17:53:00.720214 courier_at_customer {'order_id': 5072253264, 'restaurant_id': 'Restaurant 1', 'customer_id': 'Customer 9', 'courier_id': 'Courier 2'}\n",
      "17:53:00.720214 customer_order_collected {'order_id': 5072253264, 'restaurant_id': 'Restaurant 1', 'customer_id': 'Customer 9', 'courier_id': 'Courier 2'}\n",
      "17:53:00.720214 order_delivered  {'order_id': 5072253264, 'restaurant_id': 'Restaurant 1', 'customer_id': 'Customer 9', 'courier_id': 'Courier 2'}\n",
      "17:54:36.533495 courier_coords_updated {'courier_id': 'Courier 1', 'lat': 51.53853040801127, 'lng': -0.2340721303836822}\n",
      "17:54:36.533495 courier_at_restaurant {'order_id': 5072583696, 'restaurant_id': 'Restaurant 3', 'customer_id': 'Customer 0', 'courier_id': 'Courier 1'}\n",
      "17:54:36.533495 restaurant_order_ready {'order_id': 5072583696, 'restaurant_id': 'Restaurant 3', 'customer_id': 'Customer 0', 'courier_id': 'Courier 1'}\n",
      "18:00:28.533495 courier_at_customer {'order_id': 5072583696, 'restaurant_id': 'Restaurant 3', 'customer_id': 'Customer 0', 'courier_id': 'Courier 1'}\n",
      "18:00:28.533495 courier_coords_updated {'courier_id': 'Courier 1', 'lat': 51.523670137430244, 'lng': -0.18912754319612213}\n",
      "18:00:28.533495 customer_order_collected {'order_id': 5072583696, 'restaurant_id': 'Restaurant 3', 'customer_id': 'Customer 0', 'courier_id': 'Courier 1'}\n",
      "18:00:28.533495 courier_job_started {'order_id': 5072254352, 'restaurant_id': 'Restaurant 0', 'customer_id': 'Customer 11', 'courier_id': 'Courier 1'}\n",
      "18:00:28.533495 order_delivered  {'order_id': 5072583696, 'restaurant_id': 'Restaurant 3', 'customer_id': 'Customer 0', 'courier_id': 'Courier 1'}\n",
      "18:16:27.168163 courier_at_restaurant {'order_id': 5072563664, 'restaurant_id': 'Restaurant 4', 'customer_id': 'Customer 18', 'courier_id': 'Courier 0'}\n",
      "18:16:27.168163 courier_coords_updated {'courier_id': 'Courier 0', 'lat': 51.50702883147439, 'lng': 0.003567891049919017}\n",
      "18:16:27.168163 restaurant_order_ready {'order_id': 5072563664, 'restaurant_id': 'Restaurant 4', 'customer_id': 'Customer 18', 'courier_id': 'Courier 0'}\n",
      "18:20:37.533495 courier_at_restaurant {'order_id': 5072254352, 'restaurant_id': 'Restaurant 0', 'customer_id': 'Customer 11', 'courier_id': 'Courier 1'}\n",
      "18:20:37.533495 courier_coords_updated {'courier_id': 'Courier 1', 'lat': 51.49129345131254, 'lng': -0.022257894675469056}\n",
      "18:20:37.533495 restaurant_order_ready {'order_id': 5072254352, 'restaurant_id': 'Restaurant 0', 'customer_id': 'Customer 11', 'courier_id': 'Courier 1'}\n",
      "18:23:32.533495 courier_at_customer {'order_id': 5072254352, 'restaurant_id': 'Restaurant 0', 'customer_id': 'Customer 11', 'courier_id': 'Courier 1'}\n",
      "18:23:32.533495 courier_coords_updated {'courier_id': 'Courier 1', 'lat': 51.47717063485686, 'lng': -0.03343460609201085}\n",
      "18:23:32.533495 customer_order_collected {'order_id': 5072254352, 'restaurant_id': 'Restaurant 0', 'customer_id': 'Customer 11', 'courier_id': 'Courier 1'}\n",
      "18:23:32.533495 order_delivered  {'order_id': 5072254352, 'restaurant_id': 'Restaurant 0', 'customer_id': 'Customer 11', 'courier_id': 'Courier 1'}\n",
      "18:41:34.168163 courier_coords_updated {'courier_id': 'Courier 0', 'lat': 51.52883677786962, 'lng': -0.21140853484944597}\n",
      "18:41:34.168163 courier_at_customer {'order_id': 5072563664, 'restaurant_id': 'Restaurant 4', 'customer_id': 'Customer 18', 'courier_id': 'Courier 0'}\n",
      "18:41:34.168163 customer_order_collected {'order_id': 5072563664, 'restaurant_id': 'Restaurant 4', 'customer_id': 'Customer 18', 'courier_id': 'Courier 0'}\n",
      "18:41:34.168163 order_delivered  {'order_id': 5072563664, 'restaurant_id': 'Restaurant 4', 'customer_id': 'Customer 18', 'courier_id': 'Courier 0'}\n",
      "18:41:34.168163 courier_job_started {'order_id': 5072584272, 'restaurant_id': 'Restaurant 2', 'customer_id': 'Customer 10', 'courier_id': 'Courier 0'}\n",
      "18:47:38.168163 courier_coords_updated {'courier_id': 'Courier 0', 'lat': 51.49630152659193, 'lng': -0.2172444687414567}\n",
      "18:47:38.168163 courier_at_restaurant {'order_id': 5072584272, 'restaurant_id': 'Restaurant 2', 'customer_id': 'Customer 10', 'courier_id': 'Courier 0'}\n",
      "18:47:38.168163 restaurant_order_ready {'order_id': 5072584272, 'restaurant_id': 'Restaurant 2', 'customer_id': 'Customer 10', 'courier_id': 'Courier 0'}\n",
      "19:15:06.168163 courier_coords_updated {'courier_id': 'Courier 0', 'lat': 51.53036177524452, 'lng': 0.014658334139590334}\n",
      "19:15:06.168163 courier_at_customer {'order_id': 5072584272, 'restaurant_id': 'Restaurant 2', 'customer_id': 'Customer 10', 'courier_id': 'Courier 0'}\n",
      "19:15:06.168163 customer_order_collected {'order_id': 5072584272, 'restaurant_id': 'Restaurant 2', 'customer_id': 'Customer 10', 'courier_id': 'Courier 0'}\n",
      "19:15:06.168163 order_delivered  {'order_id': 5072584272, 'restaurant_id': 'Restaurant 2', 'customer_id': 'Customer 10', 'courier_id': 'Courier 0'}\n"
     ]
    }
   ],
   "source": [
    "results = simulation.run(verbose=1)"
   ],
   "metadata": {
    "collapsed": false,
    "pycharm": {
     "name": "#%%\n"
    }
   }
  },
  {
   "cell_type": "code",
   "execution_count": 48,
   "outputs": [
    {
     "data": {
      "text/plain": "{'DeliveryTime': Timedelta('0 days 00:44:57.427900')}"
     },
     "execution_count": 48,
     "metadata": {},
     "output_type": "execute_result"
    }
   ],
   "source": [
    "results"
   ],
   "metadata": {
    "collapsed": false,
    "pycharm": {
     "name": "#%%\n"
    }
   }
  }
 ],
 "metadata": {
  "kernelspec": {
   "display_name": "Python 3",
   "language": "python",
   "name": "python3"
  },
  "language_info": {
   "codemirror_mode": {
    "name": "ipython",
    "version": 3
   },
   "file_extension": ".py",
   "mimetype": "text/x-python",
   "name": "python",
   "nbconvert_exporter": "python",
   "pygments_lexer": "ipython3",
   "version": "3.7.6"
  }
 },
 "nbformat": 4,
 "nbformat_minor": 1
}